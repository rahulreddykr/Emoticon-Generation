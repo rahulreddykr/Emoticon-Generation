{
 "cells": [
  {
   "cell_type": "markdown",
   "metadata": {},
   "source": [
    "# Emojify! \n",
    "\n",
    "We are going to use word vector representations to build an Emojifier. \n",
    "\n",
    "Have you ever wanted to make your text messages more expressive? This emojifier app will help you do that. So rather than writing \"Congratulations on the promotion! Lets go out for dinner. Play ball!\" the emojifier can automatically turn this into \"Congratulations on the promotion! 😄 Lets get dinner and talk. 🍴 Play ball! ⚾\"\n",
    "\n",
    "This model inputs a sentence (such as \"Let's go see the baseball game tonight!\") and finds the most appropriate emoji to be used with this sentence (⚾️). The advantage of using word vectors is that if the training set explicitly relates only a few words to a particular emoji, the algorithm will be able to generalize and associate words in the test set to the same emoji even if those words don't even appear in the training set. This allows us to build an accurate classifier mapping from sentences to emojis, even using a small training set. \n",
    "\n",
    "We first build a baseline model (Emojifier-V1) using word embeddings, then build a more sophisticated model (Emojifier-V2) that further incorporates an LSTM."
   ]
  },
  {
   "cell_type": "code",
   "execution_count": 14,
   "metadata": {
    "collapsed": true
   },
   "outputs": [],
   "source": [
    "import numpy as np\n",
    "import matplotlib.pyplot as plt\n",
    "import pandas as pd\n",
    "import csv\n",
    "\n",
    "%matplotlib inline"
   ]
  },
  {
   "cell_type": "markdown",
   "metadata": {},
   "source": [
    "## 1 - Baseline model: Emojifier-V1\n",
    "\n",
    "Let's start by building a simple baseline classifier. \n",
    "\n",
    "We have a tiny dataset (X, Y) where:\n",
    "- X contains sentences (strings)\n",
    "- Y contains a integer label between 0 and 4 corresponding to an emoji for each sentence\n",
    "- 0 - baseball, 1 - smile, 2 - disappointed, 3 - fork and knife, 4 - angry\n",
    "\n",
    "First let us define some utility functions which we'll be using."
   ]
  },
  {
   "cell_type": "code",
   "execution_count": 66,
   "metadata": {
    "collapsed": true
   },
   "outputs": [],
   "source": [
    "def read_csv(filename):\n",
    "    \"\"\"Read csv data, preprocess the data and return numpy arrays X for sentences and Y for labels\"\"\"\n",
    "    phrase = []\n",
    "    emoji = []\n",
    "\n",
    "    with open (filename, encoding='utf-8') as csvDataFile:\n",
    "        csvReader = csv.reader(csvDataFile)\n",
    "\n",
    "        for row in csvReader:\n",
    "            phrase.append(row[0].replace('\\t','').replace(',','').replace('.','').replace(\"'\",\"\"))\n",
    "            emoji.append(row[1])\n",
    "\n",
    "    X = np.asarray(phrase)\n",
    "    Y = np.asarray(emoji, dtype=int)\n",
    "\n",
    "    return X, Y"
   ]
  },
  {
   "cell_type": "code",
   "execution_count": 16,
   "metadata": {
    "collapsed": true
   },
   "outputs": [],
   "source": [
    "def convert_to_one_hot(Y, C):\n",
    "    \"\"\"Converts vector Y to one-hot vector of dimension Y,C\"\"\"\n",
    "    Y = np.eye(C)[Y.reshape(-1)]\n",
    "    return Y"
   ]
  },
  {
   "cell_type": "code",
   "execution_count": 17,
   "metadata": {
    "collapsed": true
   },
   "outputs": [],
   "source": [
    "def read_glove_vecs(glove_file):\n",
    "    with open(glove_file, 'r',encoding='UTF-8') as f:\n",
    "        words = set()\n",
    "        word_to_vec_map = {}\n",
    "        for line in f:\n",
    "            line = line.strip().split()\n",
    "            curr_word = line[0]\n",
    "            words.add(curr_word)\n",
    "            word_to_vec_map[curr_word] = np.array(line[1:], dtype=np.float64)\n",
    "        \n",
    "        i = 1\n",
    "        words_to_index = {}\n",
    "        index_to_words = {}\n",
    "        for w in sorted(words):\n",
    "            words_to_index[w] = i\n",
    "            index_to_words[i] = w\n",
    "            i = i + 1\n",
    "    return words_to_index, index_to_words, word_to_vec_map"
   ]
  },
  {
   "cell_type": "code",
   "execution_count": 18,
   "metadata": {
    "collapsed": true
   },
   "outputs": [],
   "source": [
    "def softmax(x):\n",
    "    \"\"\"Compute softmax values for each sets of scores in x.\"\"\"\n",
    "    e_x = np.exp(x - np.max(x))\n",
    "    return e_x / e_x.sum()"
   ]
  },
  {
   "cell_type": "code",
   "execution_count": 19,
   "metadata": {
    "collapsed": true
   },
   "outputs": [],
   "source": [
    "def label_to_emoji(emo_find):\n",
    "    \"\"\"Converts the integers label emo_find to unicode emoticon\"\"\"\n",
    "    emo_unicode, emo_id = read_csv('data/emoji_labels.csv')\n",
    "    emo_dict=dict(zip(emo_id, emo_unicode))    \n",
    "    return EMOJI_UNICODE[emo_dict[emo_find]]"
   ]
  },
  {
   "cell_type": "code",
   "execution_count": 20,
   "metadata": {
    "collapsed": true
   },
   "outputs": [],
   "source": [
    "EMOJI_UNICODE = {     \n",
    "    u':baseball:': u'\\U000026BE',\n",
    "    u':smile:': u'\\U0001F604',\n",
    "    u':disappointed:': u'\\U0001F61E',\n",
    "    u':fork_and_knife:': u'\\U0001F374',\n",
    "    u':angry:': u'\\U0001F620'\n",
    "}"
   ]
  },
  {
   "cell_type": "code",
   "execution_count": 21,
   "metadata": {},
   "outputs": [
    {
     "name": "stdout",
     "output_type": "stream",
     "text": [
      "⚾\n"
     ]
    }
   ],
   "source": [
    "print(EMOJI_UNICODE[':baseball:'])"
   ]
  },
  {
   "cell_type": "markdown",
   "metadata": {},
   "source": [
    "Let's load the dataset using the code below. We split the dataset between training (171 examples) and testing (48 examples)."
   ]
  },
  {
   "cell_type": "code",
   "execution_count": 22,
   "metadata": {
    "scrolled": true
   },
   "outputs": [],
   "source": [
    "X_train, Y_train = read_csv('data/train_emoji_data.csv')\n",
    "X_test, Y_test = read_csv('data/test_emoji_data.csv')"
   ]
  },
  {
   "cell_type": "markdown",
   "metadata": {},
   "source": [
    "Run the following cell to print sentences from X_train and corresponding labels from Y_train. Change `index` to see different examples. "
   ]
  },
  {
   "cell_type": "code",
   "execution_count": 23,
   "metadata": {},
   "outputs": [
    {
     "name": "stdout",
     "output_type": "stream",
     "text": [
      "I am so happy for you 😄\n"
     ]
    }
   ],
   "source": [
    "index = 1\n",
    "print(X_train[index], label_to_emoji(Y_train[index]))"
   ]
  },
  {
   "cell_type": "markdown",
   "metadata": {},
   "source": [
    "The input of the model is a string corresponding to a sentence (e.g. \"I love you). In the code, the output will be a probability vector of shape (1,5), that you then pass in an argmax layer to extract the index of the most likely emoji output.\n",
    "\n",
    "To get our labels into a format suitable for training a softmax classifier, lets convert $Y$ from its current shape  current shape $(m, 1)$ into a \"one-hot representation\" $(m, 5)$, where each row is a one-hot vector giving the label of one example, You can do so using this next code snipper. Here, `Y_oh` stands for \"Y-one-hot\" in the variable names `Y_oh_train` and `Y_oh_test`: \n"
   ]
  },
  {
   "cell_type": "code",
   "execution_count": 24,
   "metadata": {
    "collapsed": true
   },
   "outputs": [],
   "source": [
    "Y_oh_train = convert_to_one_hot(Y_train, C = 5)\n",
    "Y_oh_test = convert_to_one_hot(Y_test, C = 5)"
   ]
  },
  {
   "cell_type": "markdown",
   "metadata": {},
   "source": [
    "Let's see what `convert_to_one_hot()` did. Feel free to change `index` to print out different values. "
   ]
  },
  {
   "cell_type": "code",
   "execution_count": 25,
   "metadata": {},
   "outputs": [
    {
     "name": "stdout",
     "output_type": "stream",
     "text": [
      "1 is converted into one hot [ 0.  1.  0.  0.  0.]\n"
     ]
    }
   ],
   "source": [
    "index = 50\n",
    "print(Y_train[index], \"is converted into one hot\", Y_oh_train[index])"
   ]
  },
  {
   "cell_type": "markdown",
   "metadata": {},
   "source": [
    "The first step is to convert an input sentence into the word vector representation, which then get averaged together. We are using pretrained 200-dimensional GloVe embeddings to get the word vector representation. Please download the Glove embeddings from https://nlp.stanford.edu/projects/glove/ and add to data folder when you use as the file is bigger than github's upload size limit."
   ]
  },
  {
   "cell_type": "code",
   "execution_count": 26,
   "metadata": {
    "collapsed": true
   },
   "outputs": [],
   "source": [
    "word_to_index, index_to_word, word_to_vec_map = read_glove_vecs('data/glove.6B.200d.txt')"
   ]
  },
  {
   "cell_type": "markdown",
   "metadata": {},
   "source": [
    "We've loaded:\n",
    "- `word_to_index`: dictionary mapping from words to their indices in the vocabulary (400,001 words, with the valid indices ranging from 0 to 400,000)\n",
    "- `index_to_word`: dictionary mapping from indices to their corresponding words in the vocabulary\n",
    "- `word_to_vec_map`: dictionary mapping words to their GloVe vector representation.\n",
    "\n",
    "To get a better idea of this check the below cell.\n"
   ]
  },
  {
   "cell_type": "code",
   "execution_count": 27,
   "metadata": {},
   "outputs": [
    {
     "name": "stdout",
     "output_type": "stream",
     "text": [
      "the index of cucumber in the vocabulary is 113317\n",
      "the 289846th word in the vocabulary is potatos\n"
     ]
    }
   ],
   "source": [
    "word = \"cucumber\"\n",
    "index = 289846\n",
    "print(\"the index of\", word, \"in the vocabulary is\", word_to_index[word])\n",
    "print(\"the\", str(index) + \"th word in the vocabulary is\", index_to_word[index])"
   ]
  },
  {
   "cell_type": "code",
   "execution_count": 28,
   "metadata": {
    "collapsed": true
   },
   "outputs": [],
   "source": [
    "def sentence_to_avg(sentence, word_to_vec_map):\n",
    "    \"\"\"\n",
    "    Converts a sentence (string) into a list of words (strings). Extracts the GloVe representation of each word\n",
    "    and averages its value into a single vector encoding the meaning of the sentence.\n",
    "    \n",
    "    Arguments:\n",
    "    sentence -- string, one training example from X\n",
    "    word_to_vec_map -- dictionary mapping every word in a vocabulary into its 200-dimensional vector representation\n",
    "    \n",
    "    Returns:\n",
    "    avg -- average vector encoding information about the sentence, numpy-array of shape (200,)\n",
    "    \"\"\"\n",
    "    words = [i.lower() for i in sentence.split()]\n",
    "    avg = np.zeros((200,))\n",
    "    \n",
    "    for w in words:\n",
    "        avg += word_to_vec_map[w]\n",
    "    avg = avg / len(words)\n",
    "    \n",
    "    return avg"
   ]
  },
  {
   "cell_type": "markdown",
   "metadata": {},
   "source": [
    "A sample avg sentence vector:"
   ]
  },
  {
   "cell_type": "code",
   "execution_count": 29,
   "metadata": {
    "scrolled": true
   },
   "outputs": [
    {
     "name": "stdout",
     "output_type": "stream",
     "text": [
      "avg =  [  5.02950000e-01  -2.20525000e-02   3.67925167e-01  -1.77369333e-01\n",
      "   1.07486167e-01  -2.74276833e-01  -2.79050000e-01   1.33223833e-01\n",
      "   1.96040000e-01  -5.13750000e-01  -2.43606300e-01  -3.19843333e-02\n",
      "   3.22711667e-01   1.41161833e-01  -1.05260000e-01  -1.85755000e-01\n",
      "   1.85501667e-01   1.58335000e-01   2.43765000e-02  -3.08233333e-03\n",
      "   6.08083333e-02   1.26911500e+00   2.60788333e-01   1.37140433e-01\n",
      "   2.91643000e-01  -1.62423167e-01   2.57763333e-02   2.90396500e-01\n",
      "  -1.42969167e-01   8.32928333e-02  -2.85766667e-03   1.27052500e-01\n",
      "   4.80670000e-02   4.10241667e-02  -3.22298333e-01   1.64100000e-01\n",
      "  -1.87378833e-01  -1.83015500e-01  -1.31448667e-01  -1.53432500e-01\n",
      "  -6.41886033e-02   1.17544500e-01   8.00196500e-02  -1.56911667e-01\n",
      "  -4.21799333e-01   1.77143167e-01   2.62843333e-01  -1.83010000e-02\n",
      "   1.39649167e-02   4.10620000e-01   9.92183333e-02  -1.77695000e-01\n",
      "  -7.30453333e-02   4.29467108e-01   2.12993500e-01  -1.49915833e-01\n",
      "  -2.47896667e-02  -1.04195000e-01   1.99700000e-02   1.18152000e-01\n",
      "  -2.13610000e-01   6.31018333e-02  -3.83096000e-01   5.43928333e-02\n",
      "   6.42946667e-02  -8.02086667e-02   5.12983333e-02   3.63551667e-02\n",
      "   1.35323567e-01  -1.92487000e-01   6.53253833e-01  -6.88033333e-03\n",
      "  -2.66584500e-01  -2.10766483e-01  -3.44796367e-01  -5.65738333e-02\n",
      "  -5.85463667e-01  -2.81836667e-01  -1.96661667e-01  -2.14649000e-01\n",
      "  -1.04290833e-01  -6.86765000e-02   4.42116667e-02  -2.04142000e-01\n",
      "  -2.70100000e-02   2.56158333e-02   2.85783333e-02  -1.07491500e-01\n",
      "   1.43703333e-01  -3.96365167e-01   1.38477500e-01   1.51291167e-01\n",
      "   1.44144167e-01  -4.23418333e-02  -3.67926667e-02  -2.83086667e-01\n",
      "  -7.41325000e-02  -1.01486333e-01  -3.21559667e-01  -1.29872667e-01\n",
      "   5.90553333e-02  -1.70466667e-01  -5.11598333e-02   3.47720167e-01\n",
      "  -1.20123667e-01  -8.94533333e-02   8.58088333e-02   7.60196667e-01\n",
      "  -2.97946500e-01   3.87066667e-03   2.00547333e-01   1.08893167e-01\n",
      "  -1.67842500e-01  -6.86623000e-02  -9.44918333e-02   7.57676667e-02\n",
      "   7.86955000e-02   9.53345000e-02  -4.70604000e-01   1.22000000e-03\n",
      "   1.25321833e-01   2.78844500e-01   5.09193333e-02  -1.67326667e-01\n",
      "   2.13269500e-01  -3.69276667e-02   2.20645000e-01  -3.84894833e-01\n",
      "   5.61154500e-02   1.83308333e-02  -8.11854333e-02  -1.38362900e-02\n",
      "   1.88899667e-01   1.03128167e-01  -2.71876333e-01  -1.04137667e-01\n",
      "  -9.85236833e-02  -1.55413667e-01  -1.40115000e-01  -1.71226000e-01\n",
      "  -3.29107000e-01  -2.24730500e-01   4.22609000e-01   1.81096500e-01\n",
      "   7.87813333e-01  -2.40576667e-01   3.39174333e-01  -2.71384667e-01\n",
      "  -9.05061667e-02  -5.08250000e-02  -1.59436667e-01   6.05414500e-01\n",
      "  -3.14904000e-01   1.74679833e-01   1.31000000e-01   1.37686167e-01\n",
      "   7.69115883e-02   1.56993500e-01   3.24177333e-01   1.16526000e-01\n",
      "   9.46166667e-02   6.28225000e-02   5.48105000e-02   4.02748333e-02\n",
      "   4.77631667e-01  -1.04510667e-01  -2.11876833e-01   1.21240667e-01\n",
      "  -2.03096333e-01  -5.21533333e-02  -4.94811667e-01  -3.44985000e-01\n",
      "   1.17415500e-01   2.45525000e-01   1.01621667e-01   1.81619833e-01\n",
      "   1.10091000e-01  -1.47671333e-01   2.65532500e-02   4.19093317e-01\n",
      "   3.64685000e-01  -3.31525000e-01  -1.30259500e-01  -1.39394167e-01\n",
      "  -3.24966333e-01  -5.31033333e-02  -2.13220667e-01   1.71613752e-01\n",
      "   2.40937667e-01  -8.65116667e-02  -6.96021667e-02  -1.99709833e-01\n",
      "  -1.10153683e-01  -3.14453333e-02  -1.93875000e-02  -5.15348333e-02\n",
      "   1.00900000e-02   4.60668333e-02  -2.55854833e-01   3.37900000e-02]\n"
     ]
    }
   ],
   "source": [
    "avg = sentence_to_avg(\"Morrocan couscous is my favorite dish\", word_to_vec_map)\n",
    "print(\"avg = \", avg)"
   ]
  },
  {
   "cell_type": "markdown",
   "metadata": {
    "collapsed": true
   },
   "source": [
    "Assuming here that $Yoh$ (\"Y one hot\") is the one-hot encoding of the output labels, these are the equations we need to implement in the forward pass and to compute the cross-entropy cost:\n",
    "$$ z^{(i)} = W . avg^{(i)} + b$$\n",
    "$$ a^{(i)} = softmax(z^{(i)})$$\n",
    "$$ \\mathcal{L}^{(i)} = - \\sum_{k = 0}^{n_y - 1} Yoh^{(i)}_k * log(a^{(i)}_k)$$"
   ]
  },
  {
   "cell_type": "code",
   "execution_count": 30,
   "metadata": {
    "collapsed": true
   },
   "outputs": [],
   "source": [
    "def model(X, Y, word_to_vec_map, learning_rate = 0.01, num_iterations = 400):\n",
    "    \"\"\"\n",
    "    Model to train word vector representations in numpy.\n",
    "    \n",
    "    Arguments:\n",
    "    X -- input data, numpy array of sentences as strings, of shape (m, 1)\n",
    "    Y -- labels, numpy array of integers between 0 and 6, numpy-array of shape (m, 1)\n",
    "    word_to_vec_map -- dictionary mapping every word in a vocabulary into its 50-dimensional vector representation\n",
    "    learning_rate -- learning_rate for the stochastic gradient descent algorithm\n",
    "    num_iterations -- number of iterations\n",
    "    \n",
    "    Returns:\n",
    "    pred -- vector of predictions, numpy-array of shape (m, 1)\n",
    "    W -- weight matrix of the softmax layer, of shape (n_y, n_h)\n",
    "    b -- bias of the softmax layer, of shape (n_y,)\n",
    "    \"\"\"\n",
    "    \n",
    "    np.random.seed(1)\n",
    "    \n",
    "    m = Y.shape[0]                          # number of training examples\n",
    "    n_y = 5                                 # number of classes  \n",
    "    n_h = 200                                # dimensions of the GloVe vectors \n",
    "    \n",
    "    # Initialize parameters using Xavier initialization\n",
    "    W = np.random.randn(n_y, n_h) / np.sqrt(n_h)\n",
    "    b = np.zeros((n_y,))\n",
    "    \n",
    "    Y_oh = convert_to_one_hot(Y, C = n_y) \n",
    "    \n",
    "    # Optimization loop\n",
    "    for t in range(num_iterations):                       # Loop over the number of iterations\n",
    "        for i in range(m):                                # Loop over the training examples\n",
    "            \n",
    "            # Average the word vectors of the words from the i'th training example\n",
    "            avg = sentence_to_avg(X[i], word_to_vec_map)\n",
    "\n",
    "            # Forward propagate the avg through the softmax layer\n",
    "            z = np.dot(W, avg) + b\n",
    "            a = softmax(z)\n",
    "\n",
    "            # Compute cost using the i'th training label's one hot representation and \"A\" (the output of the softmax)\n",
    "            cost = -np.sum(np.multiply(Y_oh[i], np.log(a)))\n",
    "            \n",
    "            # Compute gradients \n",
    "            dz = a - Y_oh[i]\n",
    "            dW = np.dot(dz.reshape(n_y,1), avg.reshape(1, n_h))\n",
    "            db = dz\n",
    "\n",
    "            # Update parameters with Stochastic Gradient Descent\n",
    "            W = W - learning_rate * dW\n",
    "            b = b - learning_rate * db\n",
    "        \n",
    "        if t % 100 == 0:\n",
    "            print(\"Epoch: \" + str(t) + \" --- cost = \" + str(cost))\n",
    "            pred = predict(X, Y, W, b, word_to_vec_map)\n",
    "\n",
    "    return pred, W, b"
   ]
  },
  {
   "cell_type": "code",
   "execution_count": 31,
   "metadata": {
    "collapsed": true
   },
   "outputs": [],
   "source": [
    "def predict(X, Y, W, b, word_to_vec_map):\n",
    "    \"\"\"\n",
    "    Method to predict the check the accuracy of the model and return the predictions.\n",
    "    \n",
    "    Arguments:\n",
    "    X -- input data, numpy array of sentences as strings, of shape (m, 1)\n",
    "    Y -- labels, numpy array of integers between 0 and 6, numpy-array of shape (m, 1)\n",
    "    word_to_vec_map -- dictionary mapping every word in a vocabulary into its 50-dimensional vector representation\n",
    "    learning_rate -- learning_rate for the stochastic gradient descent algorithm\n",
    "    num_iterations -- number of iterations\n",
    "    \n",
    "    Returns:\n",
    "    pred -- vector of predictions, numpy-array of shape (m, 1)\n",
    "    \"\"\"\n",
    "    pred = []; acc = 0\n",
    "    for i in range(Y.shape[0]):\n",
    "        avg = sentence_to_avg(X[i], word_to_vec_map)\n",
    "        z = np.dot(W, avg) + b\n",
    "        a = softmax(z)\n",
    "        a = np.where(a == np.max(a), 1, 0)\n",
    "        a = np.flatnonzero(a)\n",
    "        label = a[0]\n",
    "        pred.append(label)\n",
    "        if(label==Y[i]):\n",
    "            acc = acc + 1\n",
    "    print('Accuracy:' + str(acc/Y.shape[0]))\n",
    "    return [pred]"
   ]
  },
  {
   "cell_type": "markdown",
   "metadata": {},
   "source": [
    "Run the next cell to train the model and learn the softmax parameters (W,b). "
   ]
  },
  {
   "cell_type": "code",
   "execution_count": 32,
   "metadata": {},
   "outputs": [
    {
     "name": "stdout",
     "output_type": "stream",
     "text": [
      "Epoch: 0 --- cost = 1.48729077389\n",
      "Accuracy:0.42105263157894735\n",
      "Epoch: 100 --- cost = 0.250806943323\n",
      "Accuracy:0.9883040935672515\n",
      "Epoch: 200 --- cost = 0.114635343064\n",
      "Accuracy:0.9941520467836257\n",
      "Epoch: 300 --- cost = 0.0711357803188\n",
      "Accuracy:0.9941520467836257\n"
     ]
    }
   ],
   "source": [
    "pred, W, b = model(X_train, Y_train, word_to_vec_map)"
   ]
  },
  {
   "cell_type": "markdown",
   "metadata": {},
   "source": [
    "Our model has pretty high accuracy on the training set. Lets now see how it does on the test set. "
   ]
  },
  {
   "cell_type": "code",
   "execution_count": 33,
   "metadata": {},
   "outputs": [
    {
     "name": "stdout",
     "output_type": "stream",
     "text": [
      "Training set:\n",
      "Accuracy:1.0\n",
      "Test set:\n",
      "Accuracy:0.8958333333333334\n"
     ]
    }
   ],
   "source": [
    "print(\"Training set:\")\n",
    "pred_train = predict(X_train, Y_train, W, b, word_to_vec_map)\n",
    "print('Test set:')\n",
    "pred_test = predict(X_test, Y_test, W, b, word_to_vec_map)"
   ]
  },
  {
   "cell_type": "markdown",
   "metadata": {},
   "source": [
    "Our test set also yielded accuracy close to 90% which is pretty good. Check some random sentences and see how the model performs."
   ]
  },
  {
   "cell_type": "code",
   "execution_count": 34,
   "metadata": {},
   "outputs": [
    {
     "name": "stdout",
     "output_type": "stream",
     "text": [
      "Accuracy:1.0\n",
      "funny lol 😄\n",
      "lets play with a ball ⚾\n",
      "food is ready 🍴\n",
      "not feeling happy 😞\n",
      "Do not try to piss me off 😠\n"
     ]
    }
   ],
   "source": [
    "X_my_sentences = np.array([\"funny lol\", \"lets play with a ball\", \"food is ready\", \"not feeling happy\", \"Do not try to piss me off\"])\n",
    "Y_my_labels = np.array([[1], [0], [3],[2],[4]])\n",
    "\n",
    "pred = predict(X_my_sentences, Y_my_labels , W, b, word_to_vec_map)\n",
    "\n",
    "for i in range(Y_my_labels.shape[0]):\n",
    "    print(X_my_sentences[i] +' '+ label_to_emoji(pred[0][i]))"
   ]
  },
  {
   "cell_type": "markdown",
   "metadata": {},
   "source": [
    "Printing the confusion matrix can help us understand which classes are more difficult for your model. A confusion matrix shows how often an example whose label is one class (\"actual\" class) is mislabeled by the algorithm with a different class (\"predicted\" class). "
   ]
  },
  {
   "cell_type": "code",
   "execution_count": 35,
   "metadata": {},
   "outputs": [
    {
     "name": "stdout",
     "output_type": "stream",
     "text": [
      "           ⚾  😄  😞  🍴 😠\n",
      "Predicted  0   1   2  3  4  All\n",
      "Actual                         \n",
      "0          8   0   0  0  0    8\n",
      "1          0  12   0  0  1   13\n",
      "2          0   0  11  0  1   12\n",
      "3          0   0   1  7  0    8\n",
      "4          0   0   2  0  5    7\n",
      "All        8  12  14  7  7   48\n"
     ]
    }
   ],
   "source": [
    "print('           '+ label_to_emoji(0)+ '  ' + label_to_emoji(1) + '  ' +  label_to_emoji(2)+ '  ' + label_to_emoji(3)+' ' + label_to_emoji(4))\n",
    "print(pd.crosstab(Y_test, np.array(pred_test).reshape(Y_test.shape[0],), rownames=['Actual'], colnames=['Predicted'], margins=True))"
   ]
  },
  {
   "cell_type": "markdown",
   "metadata": {
    "collapsed": true
   },
   "source": [
    "Anger and sadness are being confused in our model"
   ]
  },
  {
   "cell_type": "markdown",
   "metadata": {},
   "source": [
    "## 2 - Emojifier-V2: Using LSTMs in Keras: \n",
    "\n",
    "Let's build an LSTM model that takes as input word sequences. This model will be able to take word ordering into account. Emojifier-V2 will continue to use pre-trained word embeddings to represent words, but will feed them into an LSTM, whose job it is to predict the most appropriate emoji. \n",
    "\n",
    "Run the following cell to load the Keras packages."
   ]
  },
  {
   "cell_type": "code",
   "execution_count": 36,
   "metadata": {},
   "outputs": [
    {
     "name": "stderr",
     "output_type": "stream",
     "text": [
      "Using TensorFlow backend.\n"
     ]
    }
   ],
   "source": [
    "import numpy as np\n",
    "np.random.seed(0)\n",
    "from keras.models import Model\n",
    "from keras.layers import Dense, Input, Dropout, LSTM, Activation\n",
    "from keras.layers.embeddings import Embedding\n",
    "from keras.preprocessing import sequence\n",
    "from keras.initializers import glorot_uniform\n",
    "np.random.seed(1)"
   ]
  },
  {
   "cell_type": "markdown",
   "metadata": {},
   "source": [
    "Here is the Emojifier-v2  implemented:\n",
    "\n",
    "<img src=\"images/emojifier-v2.png\" style=\"width:700px;height:400px;\"> <br>\n"
   ]
  },
  {
   "cell_type": "markdown",
   "metadata": {},
   "source": [
    "In this model, we want to train in Keras using mini-batches. However, most deep learning frameworks require that all sequences in the same mini-batch have the same length. This is what allows vectorization to work: If you had a 3-word sentence and a 4-word sentence, then the computations needed for them are different (one takes 3 steps of an LSTM, one takes 4 steps) so it's just not possible to do them both at the same time.\n",
    "\n",
    "The common solution to this is to use padding. Specifically, set a maximum sequence length, and pad all sequences to the same length. For example, of the maximum sequence length is 20, we could pad every sentence with \"0\"s so that each input sentence is of length 20. Thus, a sentence \"i love you\" would be represented as $(e_{i}, e_{love}, e_{you}, \\vec{0}, \\vec{0}, \\ldots, \\vec{0})$. In this example, any sentences longer than 20 words would have to be truncated. One simple way to choose the maximum sequence length is to just pick the length of the longest sentence in the training set. \n"
   ]
  },
  {
   "cell_type": "code",
   "execution_count": 37,
   "metadata": {},
   "outputs": [
    {
     "name": "stdout",
     "output_type": "stream",
     "text": [
      "16\n"
     ]
    }
   ],
   "source": [
    "maxLen = max(len(max(X_train, key=len).split()), len(max(X_test, key=len).split()))\n",
    "print(maxLen)"
   ]
  },
  {
   "cell_type": "markdown",
   "metadata": {},
   "source": [
    "In Keras, the embedding matrix is represented as a \"layer\", and maps positive integers (indices corresponding to words) into dense vectors of fixed size (the embedding vectors). It can be trained or initialized with a pretrained embedding. In this part, we create an [Embedding()](https://keras.io/layers/embeddings/) layer in Keras, initialize it with the GloVe 200-dimensional vectors loaded earlier in the notebook. Because our training set is quite small, we will not update the word embeddings but will instead leave their values fixed. But in the code below, we'll show you how Keras allows you to either train or leave fixed this layer.  \n",
    "\n",
    "The `Embedding()` layer takes an integer matrix of size (batch size, max input length) as input. This corresponds to sentences converted into lists of indices (integers).\n",
    "\n",
    "The first step is to convert all your training sentences into lists of indices, and then zero-pad all these lists so that their length is the length of the longest sentence.  "
   ]
  },
  {
   "cell_type": "code",
   "execution_count": 38,
   "metadata": {
    "collapsed": true
   },
   "outputs": [],
   "source": [
    "def sentences_to_indices(X, word_to_index, max_len):\n",
    "    \"\"\"\n",
    "    Converts an array of sentences (strings) into an array of indices corresponding to words in the sentences.\n",
    "    The output shape should be such that it can be given to `Embedding()` (described in Figure 4). \n",
    "    \n",
    "    Arguments:\n",
    "    X -- array of sentences (strings), of shape (m, 1)\n",
    "    word_to_index -- a dictionary containing the each word mapped to its index\n",
    "    max_len -- maximum number of words in a sentence. You can assume every sentence in X is no longer than this. \n",
    "    \n",
    "    Returns:\n",
    "    X_indices -- array of indices corresponding to words in the sentences from X, of shape (m, max_len)\n",
    "    \"\"\"\n",
    "    \n",
    "    m = X.shape[0] \n",
    "    X_indices = np.zeros((m, max_len))\n",
    "    \n",
    "    for i in range(m):\n",
    "        sentence_words = [w.lower() for w in X[i].split()]           \n",
    "        j = 0 \n",
    "        \n",
    "        for w in sentence_words:\n",
    "            X_indices[i, j] = word_to_index[w]\n",
    "            j += 1\n",
    "            \n",
    "    return X_indices"
   ]
  },
  {
   "cell_type": "markdown",
   "metadata": {},
   "source": [
    "Run the following cell to check what `sentences_to_indices()` does."
   ]
  },
  {
   "cell_type": "code",
   "execution_count": 39,
   "metadata": {},
   "outputs": [
    {
     "name": "stdout",
     "output_type": "stream",
     "text": [
      "X1 = ['funny lol' 'lets play baseball' 'food is ready for you']\n",
      "X1_indices = [[ 155345.  225122.       0.       0.       0.       0.]\n",
      " [ 220930.  286375.   69714.       0.       0.       0.]\n",
      " [ 151204.  192973.  302254.  151349.  394475.       0.]]\n"
     ]
    }
   ],
   "source": [
    "X1 = np.array([\"funny lol\", \"lets play baseball\", \"food is ready for you\"])\n",
    "X1_indices = sentences_to_indices(X1,word_to_index, max_len = 6)\n",
    "print(\"X1 =\", X1)\n",
    "print(\"X1_indices =\", X1_indices)"
   ]
  },
  {
   "cell_type": "markdown",
   "metadata": {},
   "source": [
    "Let's build the `Embedding()` layer in Keras, using pre-trained word vectors. After this layer is built, we will pass the output of `sentences_to_indices()` to it as an input, and the `Embedding()` layer will return the word embeddings for a sentence. "
   ]
  },
  {
   "cell_type": "code",
   "execution_count": 40,
   "metadata": {
    "collapsed": true
   },
   "outputs": [],
   "source": [
    "def pretrained_embedding_layer(word_to_vec_map, word_to_index):\n",
    "    \"\"\"\n",
    "    Creates a Keras Embedding() layer and loads in pre-trained GloVe 50-dimensional vectors.\n",
    "    \n",
    "    Arguments:\n",
    "    word_to_vec_map -- dictionary mapping words to their GloVe vector representation.\n",
    "    word_to_index -- dictionary mapping from words to their indices in the vocabulary (400,001 words)\n",
    "\n",
    "    Returns:\n",
    "    embedding_layer -- pretrained layer Keras instance\n",
    "    \"\"\"\n",
    "    \n",
    "    vocab_len = len(word_to_index) + 1                  # adding 1 to fit Keras embedding (requirement)\n",
    "    emb_dim = word_to_vec_map[\"cucumber\"].shape[0]      # define dimensionality of your GloVe word vectors (= 200)\n",
    "    \n",
    "    # Initialize the embedding matrix as a numpy array of zeros of shape (vocab_len, dimensions of word vectors = emb_dim)\n",
    "    emb_matrix = np.zeros((vocab_len, emb_dim))\n",
    "    \n",
    "    # Set each row \"index\" of the embedding matrix to be the word vector representation of the \"index\"th word of the vocabulary\n",
    "    for word, index in word_to_index.items():\n",
    "        emb_matrix[index, :] = word_to_vec_map[word]\n",
    "\n",
    "    # Define Keras embedding layer with the correct output/input sizes, make it trainable. Use Embedding(...). Make sure to set trainable=False. \n",
    "    embedding_layer = Embedding(vocab_len, emb_dim, trainable=False)\n",
    "\n",
    "    # Build the embedding layer, it is required before setting the weights of the embedding layer.\n",
    "    embedding_layer.build((None,))\n",
    "    \n",
    "    # Set the weights of the embedding layer to the embedding matrix. Your layer is now pretrained.\n",
    "    embedding_layer.set_weights([emb_matrix])\n",
    "    \n",
    "    return embedding_layer"
   ]
  },
  {
   "cell_type": "code",
   "execution_count": 41,
   "metadata": {},
   "outputs": [
    {
     "name": "stdout",
     "output_type": "stream",
     "text": [
      "weights[0][1][3] = -0.11844\n"
     ]
    }
   ],
   "source": [
    "embedding_layer = pretrained_embedding_layer(word_to_vec_map, word_to_index)\n",
    "print(\"weights[0][1][3] =\", embedding_layer.get_weights()[0][1][3])"
   ]
  },
  {
   "cell_type": "markdown",
   "metadata": {},
   "source": [
    "Now let us feed the embedding layer we created and feed it to an LSTM network. We use the following in Keras: `Input(shape = ..., dtype = '...')`, [LSTM()](https://keras.io/layers/recurrent/#lstm), [Dropout()](https://keras.io/layers/core/#dropout), [Dense()](https://keras.io/layers/core/#dense), and [Activation()](https://keras.io/activations/)."
   ]
  },
  {
   "cell_type": "code",
   "execution_count": 42,
   "metadata": {
    "collapsed": true
   },
   "outputs": [],
   "source": [
    "def Emojify_V2(input_shape, word_to_vec_map, word_to_index):\n",
    "    \"\"\"\n",
    "    Function creating the Emojify-v2 model's graph.\n",
    "    \n",
    "    Arguments:\n",
    "    input_shape -- shape of the input, usually (max_len,)\n",
    "    word_to_vec_map -- dictionary mapping every word in a vocabulary into its 50-dimensional vector representation\n",
    "    word_to_index -- dictionary mapping from words to their indices in the vocabulary (400,001 words)\n",
    "\n",
    "    Returns:\n",
    "    model -- a model instance in Keras\n",
    "    \"\"\"\n",
    "    \n",
    "    # Define sentence_indices as the input of the graph, it should be of shape input_shape and dtype 'int32' (as it contains indices).\n",
    "    sentence_indices = Input(input_shape, dtype='int32')\n",
    "    \n",
    "    # Create the embedding layer pretrained with GloVe Vectors\n",
    "    embedding_layer = pretrained_embedding_layer(word_to_vec_map, word_to_index)\n",
    "    \n",
    "    # Propagate sentence_indices through your embedding layer, you get back the embeddings\n",
    "    embeddings = embedding_layer(sentence_indices)   \n",
    "    \n",
    "    # Propagate the embeddings through an LSTM layer with 128-dimensional hidden state\n",
    "    X = LSTM(128, return_sequences=True)(embeddings)\n",
    "    # Add dropout with a probability of 0.5\n",
    "    X = Dropout(0.5)(X)\n",
    "    # Propagate X trough another LSTM layer with 128-dimensional hidden state\n",
    "    X = LSTM(128, return_sequences=False)(X)\n",
    "    # Add dropout with a probability of 0.5\n",
    "    X = Dropout(0.5)(X)\n",
    "    # Propagate X through a Dense layer with softmax activation to get back a batch of 5-dimensional vectors.\n",
    "    X = Dense(5)(X)\n",
    "    # Add a softmax activation\n",
    "    X = Activation('softmax')(X)\n",
    "    \n",
    "    # Create Model instance which converts sentence_indices into X.\n",
    "    model = Model(inputs=sentence_indices, outputs=X)\n",
    "          \n",
    "    return model"
   ]
  },
  {
   "cell_type": "code",
   "execution_count": 60,
   "metadata": {
    "scrolled": false
   },
   "outputs": [
    {
     "name": "stdout",
     "output_type": "stream",
     "text": [
      "_________________________________________________________________\n",
      "Layer (type)                 Output Shape              Param #   \n",
      "=================================================================\n",
      "input_4 (InputLayer)         (None, 16)                0         \n",
      "_________________________________________________________________\n",
      "embedding_5 (Embedding)      (None, 16, 200)           80000200  \n",
      "_________________________________________________________________\n",
      "lstm_7 (LSTM)                (None, 16, 128)           168448    \n",
      "_________________________________________________________________\n",
      "dropout_7 (Dropout)          (None, 16, 128)           0         \n",
      "_________________________________________________________________\n",
      "lstm_8 (LSTM)                (None, 128)               131584    \n",
      "_________________________________________________________________\n",
      "dropout_8 (Dropout)          (None, 128)               0         \n",
      "_________________________________________________________________\n",
      "dense_4 (Dense)              (None, 5)                 645       \n",
      "_________________________________________________________________\n",
      "activation_4 (Activation)    (None, 5)                 0         \n",
      "=================================================================\n",
      "Total params: 80,300,877\n",
      "Trainable params: 300,677\n",
      "Non-trainable params: 80,000,200\n",
      "_________________________________________________________________\n"
     ]
    }
   ],
   "source": [
    "model = Emojify_V2((maxLen,), word_to_vec_map, word_to_index)\n",
    "model.summary()"
   ]
  },
  {
   "cell_type": "markdown",
   "metadata": {},
   "source": [
    "We now need to compile it and define what loss, optimizer and metrics we are want to use. Compile your model using `categorical_crossentropy` loss, `adam` optimizer and `['accuracy']` metrics:"
   ]
  },
  {
   "cell_type": "code",
   "execution_count": 61,
   "metadata": {
    "collapsed": true
   },
   "outputs": [],
   "source": [
    "model.compile(loss='mean_squared_error', optimizer='adam', metrics=['accuracy'])"
   ]
  },
  {
   "cell_type": "code",
   "execution_count": 62,
   "metadata": {
    "collapsed": true
   },
   "outputs": [],
   "source": [
    "X_train_indices = sentences_to_indices(X_train, word_to_index, maxLen)\n",
    "Y_train_oh = convert_to_one_hot(Y_train, C = 5)"
   ]
  },
  {
   "cell_type": "markdown",
   "metadata": {},
   "source": [
    "We now fit the Keras model on `X_train_indices` and `Y_train_oh`. We will use `epochs = 30` and `batch_size = 32`."
   ]
  },
  {
   "cell_type": "code",
   "execution_count": 63,
   "metadata": {
    "scrolled": true
   },
   "outputs": [
    {
     "name": "stdout",
     "output_type": "stream",
     "text": [
      "Epoch 1/30\n",
      "171/171 [==============================] - 3s 16ms/step - loss: 0.1592 - acc: 0.2690\n",
      "Epoch 2/30\n",
      "171/171 [==============================] - 0s 2ms/step - loss: 0.1531 - acc: 0.3450\n",
      "Epoch 3/30\n",
      "171/171 [==============================] - 0s 2ms/step - loss: 0.1405 - acc: 0.5614\n",
      "Epoch 4/30\n",
      "171/171 [==============================] - 0s 2ms/step - loss: 0.1084 - acc: 0.6550\n",
      "Epoch 5/30\n",
      "171/171 [==============================] - 0s 2ms/step - loss: 0.0804 - acc: 0.7193\n",
      "Epoch 6/30\n",
      "171/171 [==============================] - 0s 2ms/step - loss: 0.0782 - acc: 0.7310\n",
      "Epoch 7/30\n",
      "171/171 [==============================] - 0s 2ms/step - loss: 0.0612 - acc: 0.8012\n",
      "Epoch 8/30\n",
      "171/171 [==============================] - 0s 2ms/step - loss: 0.0535 - acc: 0.8246\n",
      "Epoch 9/30\n",
      "171/171 [==============================] - 0s 2ms/step - loss: 0.0453 - acc: 0.8596\n",
      "Epoch 10/30\n",
      "171/171 [==============================] - 0s 2ms/step - loss: 0.0347 - acc: 0.8830\n",
      "Epoch 11/30\n",
      "171/171 [==============================] - 0s 2ms/step - loss: 0.0393 - acc: 0.8772\n",
      "Epoch 12/30\n",
      "171/171 [==============================] - 0s 2ms/step - loss: 0.0260 - acc: 0.9240\n",
      "Epoch 13/30\n",
      "171/171 [==============================] - 0s 2ms/step - loss: 0.0208 - acc: 0.9474\n",
      "Epoch 14/30\n",
      "171/171 [==============================] - 0s 2ms/step - loss: 0.0172 - acc: 0.9591\n",
      "Epoch 15/30\n",
      "171/171 [==============================] - 0s 2ms/step - loss: 0.0090 - acc: 0.9766\n",
      "Epoch 16/30\n",
      "171/171 [==============================] - 0s 2ms/step - loss: 0.0085 - acc: 0.9649\n",
      "Epoch 17/30\n",
      "171/171 [==============================] - 0s 2ms/step - loss: 0.0056 - acc: 0.9883\n",
      "Epoch 18/30\n",
      "171/171 [==============================] - 0s 2ms/step - loss: 0.0038 - acc: 0.9942\n",
      "Epoch 19/30\n",
      "171/171 [==============================] - 0s 2ms/step - loss: 0.0028 - acc: 0.9942\n",
      "Epoch 20/30\n",
      "171/171 [==============================] - 0s 2ms/step - loss: 0.0030 - acc: 0.9942\n",
      "Epoch 21/30\n",
      "171/171 [==============================] - 0s 2ms/step - loss: 0.0028 - acc: 0.9942\n",
      "Epoch 22/30\n",
      "171/171 [==============================] - 0s 2ms/step - loss: 0.0062 - acc: 0.9766\n",
      "Epoch 23/30\n",
      "171/171 [==============================] - 0s 2ms/step - loss: 0.0095 - acc: 0.9766\n",
      "Epoch 24/30\n",
      "171/171 [==============================] - 0s 2ms/step - loss: 0.0154 - acc: 0.9532A: 0s - loss: 0.0149 - acc: 0.9\n",
      "Epoch 25/30\n",
      "171/171 [==============================] - 0s 2ms/step - loss: 0.0129 - acc: 0.9649\n",
      "Epoch 26/30\n",
      "171/171 [==============================] - 0s 2ms/step - loss: 0.0042 - acc: 0.9883\n",
      "Epoch 27/30\n",
      "171/171 [==============================] - 0s 2ms/step - loss: 0.0034 - acc: 0.9942\n",
      "Epoch 28/30\n",
      "171/171 [==============================] - 0s 2ms/step - loss: 0.0026 - acc: 0.9942\n",
      "Epoch 29/30\n",
      "171/171 [==============================] - 0s 2ms/step - loss: 0.0052 - acc: 0.9883\n",
      "Epoch 30/30\n",
      "171/171 [==============================] - 0s 2ms/step - loss: 0.0013 - acc: 0.9942\n"
     ]
    },
    {
     "data": {
      "text/plain": [
       "<keras.callbacks.History at 0xaa3d71a1d0>"
      ]
     },
     "execution_count": 63,
     "metadata": {},
     "output_type": "execute_result"
    }
   ],
   "source": [
    "model.fit(X_train_indices, Y_train_oh, epochs = 30, batch_size = 32, shuffle=True)"
   ]
  },
  {
   "cell_type": "code",
   "execution_count": 64,
   "metadata": {
    "scrolled": false
   },
   "outputs": [
    {
     "name": "stdout",
     "output_type": "stream",
     "text": [
      "48/48 [==============================] - 0s 9ms/step\n",
      "Test accuracy =  0.916666666667\n"
     ]
    }
   ],
   "source": [
    "X_test_indices = sentences_to_indices(X_test, word_to_index, max_len = maxLen)\n",
    "Y_test_oh = convert_to_one_hot(Y_test, C = 5)\n",
    "loss, acc = model.evaluate(X_test_indices, Y_test_oh)\n",
    "print(\"Test accuracy = \", acc)"
   ]
  },
  {
   "cell_type": "markdown",
   "metadata": {},
   "source": [
    "Our test accuracy is over 91.5% which is a really good number. With more training data and hyperparameter tuning this can be further improved. Let us see the mislabelled sentences."
   ]
  },
  {
   "cell_type": "code",
   "execution_count": 65,
   "metadata": {},
   "outputs": [
    {
     "name": "stdout",
     "output_type": "stream",
     "text": [
      "Expected emoji:😠 prediction: This girl is messing with me😞\n",
      "Expected emoji:😠 prediction: This stupid grader is not working 😞\n",
      "Expected emoji:😞 prediction: go away😠\n",
      "Expected emoji:😠 prediction: Get lost now !😄\n"
     ]
    }
   ],
   "source": [
    "C = 5\n",
    "y_test_oh = np.eye(C)[Y_test.reshape(-1)]\n",
    "X_test_indices = sentences_to_indices(X_test, word_to_index, maxLen)\n",
    "pred = model.predict(X_test_indices)\n",
    "for i in range(len(X_test)):\n",
    "    x = X_test_indices\n",
    "    num = np.argmax(pred[i])\n",
    "    if(num != Y_test[i]):\n",
    "        print('Expected emoji:'+ label_to_emoji(Y_test[i]) + ' prediction: '+ X_test[i] + label_to_emoji(num).strip())"
   ]
  },
  {
   "cell_type": "markdown",
   "metadata": {},
   "source": [
    "Looks like we are having trouble with very small sentences and between distinguishing anger and sadness. \n",
    "We can test any random sentence and see the emoticon now."
   ]
  },
  {
   "cell_type": "code",
   "execution_count": 550,
   "metadata": {},
   "outputs": [
    {
     "name": "stdout",
     "output_type": "stream",
     "text": [
      "lets play ⚾\n"
     ]
    }
   ],
   "source": [
    "# Change the sentence below to see your prediction. Make sure all the words are in the Glove embeddings.  \n",
    "x_test = np.array(['lets play'])\n",
    "X_test_indices = sentences_to_indices(x_test, word_to_index, maxLen)\n",
    "print(x_test[0] +' '+  label_to_emoji(np.argmax(model.predict(X_test_indices))))"
   ]
  },
  {
   "cell_type": "markdown",
   "metadata": {},
   "source": [
    "## Conclusion\n",
    "\n",
    "As you can see vector representations of words(word embeddings) in LSTM's can be used with good accuracy for emoticon generation. This model can be used for any emoticon generation even with less data but handling ambiguity might be a problem in that case as we have observed."
   ]
  },
  {
   "cell_type": "markdown",
   "metadata": {},
   "source": [
    "## Acknowledgments\n",
    "\n",
    "Inspired by Coursera Sequence Models course assigment"
   ]
  }
 ],
 "metadata": {
  "coursera": {
   "course_slug": "nlp-sequence-models",
   "graded_item_id": "RNnEs",
   "launcher_item_id": "acNYU"
  },
  "kernelspec": {
   "display_name": "Python 3",
   "language": "python",
   "name": "python3"
  },
  "language_info": {
   "codemirror_mode": {
    "name": "ipython",
    "version": 3
   },
   "file_extension": ".py",
   "mimetype": "text/x-python",
   "name": "python",
   "nbconvert_exporter": "python",
   "pygments_lexer": "ipython3",
   "version": "3.6.3"
  }
 },
 "nbformat": 4,
 "nbformat_minor": 2
}
